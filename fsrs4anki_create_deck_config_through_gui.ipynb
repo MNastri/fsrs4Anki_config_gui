{
 "cells": [
  {
   "cell_type": "markdown",
   "metadata": {
    "tags": []
   },
   "source": [
    "# FSRS4Anki v3.13.5 `TODO fix version number` deck config creator GUI"
   ]
  },
  {
   "cell_type": "markdown",
   "metadata": {
    "id": "lurCmW0Jqz3s"
   },
   "source": [
    "[![open in colab](https://colab.research.google.com/assets/colab-badge.svg)](https://colab.research.google.com/github/open-spaced-repetition/fsrs4anki/blob/v3.13.5/fsrs4anki_optimizer.ipynb) `TODO setup notebook in google colab`\n",
    "\n",
    "↑ Click the above button to open the optimizer on Google Colab.\n",
    "\n",
    "> If you can't see the button and are located in the Chinese Mainland, please use a proxy or VPN."
   ]
  },
  {
   "cell_type": "markdown",
   "metadata": {
    "id": "wG7bBfGJFbMr"
   },
   "source": [
    "**Contribute to SRS Research**: If you want to share your data, please fill this form: https://forms.gle/KaojsBbhMCytaA7h8"
   ]
  },
  {
   "cell_type": "markdown",
   "metadata": {},
   "source": [
    "# TODOs\n",
    "- improve name of this file\n",
    "- improve markdown texts\n",
    "- create section to add just the global config in case user deleted it by mistake  \n",
    "- load and dump from and to toml files\n",
    "- make this an actual gui (how??)\n",
    "- reorder the cells (e.g.: put more important cells first?)"
   ]
  },
  {
   "cell_type": "markdown",
   "metadata": {
    "tags": []
   },
   "source": [
    "# Setup\n",
    "\n",
    "You don't have to do anything in here besides run the cells\n",
    "\n",
    "you can hold shift and click to select a range of cells to be run. use ctrl+enter to run the selected range of cells\n"
   ]
  },
  {
   "cell_type": "markdown",
   "metadata": {
    "tags": []
   },
   "source": [
    "## Populating constants and variables\n",
    "just run"
   ]
  },
  {
   "cell_type": "code",
   "execution_count": 45,
   "metadata": {
    "tags": []
   },
   "outputs": [],
   "source": [
    "import pprint"
   ]
  },
  {
   "cell_type": "code",
   "execution_count": 56,
   "metadata": {
    "tags": []
   },
   "outputs": [],
   "source": [
    "KEYS_OF_DECKPARAMS = (\n",
    "    \"deckName\",\n",
    "    \"w\",\n",
    "    \"requestRetention\",\n",
    "    \"maximumInterval\",\n",
    "    \"easyBonus\",\n",
    "    \"hardInterval\",\n",
    ")\n"
   ]
  },
  {
   "cell_type": "code",
   "execution_count": 57,
   "metadata": {
    "tags": []
   },
   "outputs": [
    {
     "name": "stdout",
     "output_type": "stream",
     "text": [
      "['global config for FSRS4Anki',\n",
      " [1.0, 1.0, 5.0, -0.5, -0.5, 0.2, 1.4, -0.12, 0.8, 2.0, -0.2, 0.2, 1.0],\n",
      " 0.9,\n",
      " 36500,\n",
      " 1.3,\n",
      " 1.2]\n"
     ]
    }
   ],
   "source": [
    "GLOBAL_CONFIG_FOR_FSRS4ANKI = [\n",
    "    \"global config for FSRS4Anki\",\n",
    "    [\n",
    "        1.0000,\n",
    "        1.0000,\n",
    "        5.0000,\n",
    "        -0.5000,\n",
    "        -0.5000,\n",
    "        0.2000,\n",
    "        1.4000,\n",
    "        -0.12000,\n",
    "        0.8000,\n",
    "        2.0000,\n",
    "        -0.2000,\n",
    "        0.2000,\n",
    "        1.0000,\n",
    "    ],\n",
    "    0.9,\n",
    "    36500,\n",
    "    1.3,\n",
    "    1.2,\n",
    "]\n",
    "\n",
    "pprint.pprint(GLOBAL_CONFIG_FOR_FSRS4ANKI)  # TODO remove"
   ]
  },
  {
   "cell_type": "code",
   "execution_count": 58,
   "metadata": {
    "tags": []
   },
   "outputs": [],
   "source": [
    "decks_parameters_dict = {\n",
    "    \"global config for FSRS4Anki\": {\n",
    "        \"w\": [1.0, 1.0, 5.0, -0.5, -0.5, 0.2, 1.4, -0.12, 0.8, 2.0, -0.2, 0.2, 1.0],\n",
    "        \"requestRetention\": 0.9,\n",
    "        \"maximumInterval\": 36500,\n",
    "        \"easyBonus\": 1.3,\n",
    "        \"hardInterval\": 1.2,\n",
    "    }\n",
    "}\n"
   ]
  },
  {
   "cell_type": "markdown",
   "metadata": {
    "tags": []
   },
   "source": [
    "## Loading Utility Functions\n",
    "keep running forrest"
   ]
  },
  {
   "cell_type": "code",
   "execution_count": 49,
   "metadata": {
    "tags": []
   },
   "outputs": [],
   "source": [
    "def generate_dec_config():\n",
    "    decks_parameters_list = [\"const deckParams = [\\n\", \"];\\n\"]\n",
    "    for deck_dict_item in decks_parameters_dict.items():\n",
    "        deck_strings = create_strings_for_one(deck_dict_item)\n",
    "        deck = \"\".join(deck_strings)\n",
    "        # insert before closing square brackets\n",
    "        decks_parameters_list.insert(-1, deck)\n",
    "    deck_parameters_string = \"\".join(decks_parameters_list)\n",
    "    return deck_parameters_string\n"
   ]
  },
  {
   "cell_type": "code",
   "execution_count": 50,
   "metadata": {
    "tags": []
   },
   "outputs": [],
   "source": [
    "def create_strings_for_one(deck_dict_item):\n",
    "    deck_strings = [\"  {\\n\", \"  },\\n\"]\n",
    "    deck_name, params = deck_dict_item\n",
    "    deck_strings.insert(1, f'    \"{KEYS_OF_DECKPARAMS[0]}\": \"{deck_name}\",\\n')\n",
    "    for key, value in zip(KEYS_OF_DECKPARAMS[1:], params.values()):\n",
    "        # insert before closing curly braces\n",
    "        deck_strings.insert(-1, f'    \"{key}\": {value},\\n')\n",
    "    return deck_strings\n"
   ]
  },
  {
   "cell_type": "code",
   "execution_count": 51,
   "metadata": {
    "tags": []
   },
   "outputs": [
    {
     "name": "stdout",
     "output_type": "stream",
     "text": [
      "['  {\\n',\n",
      " '    \"deckName\": \"global config for FSRS4Anki\",\\n',\n",
      " '    \"w\": [1.0, 1.0, 5.0, -0.5, -0.5, 0.2, 1.4, -0.12, 0.8, 2.0, -0.2, 0.2, '\n",
      " '1.0],\\n',\n",
      " '    \"requestRetention\": 0.9,\\n',\n",
      " '    \"maximumInterval\": 36500,\\n',\n",
      " '    \"easyBonus\": 1.3,\\n',\n",
      " '    \"hardInterval\": 1.2,\\n',\n",
      " '  },\\n']\n"
     ]
    }
   ],
   "source": [
    "# TODO remove? ↓\n",
    "# tests are cool or not?\n",
    "c = create_strings_for_one\n",
    "deck_dict_item = (\n",
    "    \"global config for FSRS4Anki\", {\n",
    "        \"w\": [1.0, 1.0, 5.0, -0.5, -0.5, 0.2, 1.4, -0.12, 0.8, 2.0, -0.2, 0.2, 1.0],\n",
    "        \"requestRetention\": 0.9,\n",
    "        \"maximumInterval\": 36500,\n",
    "        \"easyBonus\": 1.3,\n",
    "        \"hardInterval\": 1.2,\n",
    "    }\n",
    ")\n",
    "pprint.pprint(c(deck_dict_item))\n",
    "# TODO remove? ↑\n"
   ]
  },
  {
   "cell_type": "code",
   "execution_count": 52,
   "metadata": {
    "tags": []
   },
   "outputs": [],
   "source": [
    "def add_new_deck(params, verbose=False):\n",
    "    d, w, r, m, e, h = params\n",
    "    decks_parameters_dict[d] = {\n",
    "        \"w\": w,\n",
    "        \"requestRetention\": r,\n",
    "        \"maximumInterval\": m,\n",
    "        \"easyBonus\": e,\n",
    "        \"hardInterval\": h,\n",
    "    }\n",
    "    print(f\"added deck {d!r}\")\n",
    "    if verbose:\n",
    "        pprint.pprint(decks_parameters_dict, sort_dicts=False)\n"
   ]
  },
  {
   "cell_type": "code",
   "execution_count": 53,
   "metadata": {
    "tags": []
   },
   "outputs": [],
   "source": [
    "def remove_deck_by(idx, verbose=False):\n",
    "    decks_parameters_dict.pop(idx, None)\n",
    "    print(f\"Removed deck of index {idx}, if it existed\")\n",
    "    if verbose:\n",
    "        pprint.pprint(decks_parameters_dict, sort_dicts=False)\n"
   ]
  },
  {
   "cell_type": "code",
   "execution_count": 54,
   "metadata": {
    "tags": []
   },
   "outputs": [],
   "source": [
    "def clear_decks_parameters():\n",
    "    decks_parameters_dict = {}"
   ]
  },
  {
   "cell_type": "code",
   "execution_count": 55,
   "metadata": {
    "tags": []
   },
   "outputs": [
    {
     "name": "stdout",
     "output_type": "stream",
     "text": [
      "[(0, 'global config for FSRS4Anki')]\n"
     ]
    }
   ],
   "source": [
    "def list_decks():\n",
    "    pprint.pprint([(idx, name) for idx, name in enumerate(decks_parameters_dict)])\n",
    "\n",
    "\n",
    "list_decks()  # TODO remove\n"
   ]
  },
  {
   "cell_type": "markdown",
   "metadata": {},
   "source": [
    "---\n",
    "\n",
    "# Clear deck parameters\n",
    "CAUTION  \n",
    "clears the deck parameters you have configured so far and loads the global config again\n",
    "\n",
    "BEWARE  \n",
    "that running this will wipe all your deck parameters"
   ]
  },
  {
   "cell_type": "code",
   "execution_count": 17,
   "metadata": {
    "tags": []
   },
   "outputs": [
    {
     "name": "stdout",
     "output_type": "stream",
     "text": [
      "added deck 'global config for FSRS4Anki'\n",
      "{'global config for FSRS4Anki': {'w': [1.0,\n",
      "                                       1.0,\n",
      "                                       5.0,\n",
      "                                       -0.5,\n",
      "                                       -0.5,\n",
      "                                       0.2,\n",
      "                                       1.4,\n",
      "                                       -0.12,\n",
      "                                       0.8,\n",
      "                                       2.0,\n",
      "                                       -0.2,\n",
      "                                       0.2,\n",
      "                                       1.0],\n",
      "                                 'requestRetention': 0.9,\n",
      "                                 'maximumInterval': 36500,\n",
      "                                 'easyBonus': 1.3,\n",
      "                                 'hardInterval': 1.2}}\n"
     ]
    }
   ],
   "source": [
    "clear_decks_parameters()\n",
    "add_new_deck(GLOBAL_CONFIG_FOR_FSRS4ANKI, verbose=True)\n"
   ]
  },
  {
   "cell_type": "markdown",
   "metadata": {
    "tags": []
   },
   "source": [
    "---\n",
    "# Add a new deck\n",
    "fill the parameters and run to add one deck to the deck dict  \n",
    "REPEAT as necessary  \n",
    "you will not be able to add a deck with the same name more than once"
   ]
  },
  {
   "cell_type": "code",
   "execution_count": 25,
   "metadata": {
    "tags": []
   },
   "outputs": [
    {
     "name": "stdout",
     "output_type": "stream",
     "text": [
      "added deck 'your deck name here'\n",
      "{'global config for FSRS4Anki': {'w': [1.0,\n",
      "                                       1.0,\n",
      "                                       5.0,\n",
      "                                       -0.5,\n",
      "                                       -0.5,\n",
      "                                       0.2,\n",
      "                                       1.4,\n",
      "                                       -0.12,\n",
      "                                       0.8,\n",
      "                                       2.0,\n",
      "                                       -0.2,\n",
      "                                       0.2,\n",
      "                                       1.0],\n",
      "                                 'requestRetention': 0.9,\n",
      "                                 'maximumInterval': 36500,\n",
      "                                 'easyBonus': 1.3,\n",
      "                                 'hardInterval': 1.2},\n",
      " 'your deck name here': {'w': [1.0,\n",
      "                               1.0,\n",
      "                               5.0,\n",
      "                               -0.5,\n",
      "                               -0.5,\n",
      "                               0.2,\n",
      "                               1.4,\n",
      "                               -0.12,\n",
      "                               0.8,\n",
      "                               2.0,\n",
      "                               -0.2,\n",
      "                               0.2,\n",
      "                               1.0],\n",
      "                         'requestRetention': 0.9,\n",
      "                         'maximumInterval': 36500,\n",
      "                         'easyBonus': 1.3,\n",
      "                         'hardInterval': 1.2}}\n"
     ]
    }
   ],
   "source": [
    "deckName = 'your deck name here'\n",
    "w = [ 1.0000, 1.0000, 5.0000, -0.5000, -0.5000, 0.2000, 1.4000, -0.12000, 0.8000, 2.0000, -0.2000, 0.2000, 1.0000 ]\n",
    "requestRetention = 0.9\n",
    "maximumInterval = 36500\n",
    "easyBonus = 1.3\n",
    "hardInterval = 1.2\n",
    "\n",
    "params = deckName,w,requestRetention,maximumInterval,easyBonus,hardInterval\n",
    "\n",
    "add_new_deck(params, verbose=True)  # TODO verbose=False???"
   ]
  },
  {
   "cell_type": "markdown",
   "metadata": {
    "tags": []
   },
   "source": [
    "---\n",
    "# Remove deck\n"
   ]
  },
  {
   "cell_type": "markdown",
   "metadata": {},
   "source": [
    "## list all the decks\n",
    "\n",
    "run cell to check what are the deck names "
   ]
  },
  {
   "cell_type": "code",
   "execution_count": 20,
   "metadata": {
    "tags": []
   },
   "outputs": [
    {
     "name": "stdout",
     "output_type": "stream",
     "text": [
      "[(0, 'global config for FSRS4Anki'), (1, 'your deck name here')]\n"
     ]
    }
   ],
   "source": [
    "list_decks()"
   ]
  },
  {
   "cell_type": "markdown",
   "metadata": {
    "tags": []
   },
   "source": [
    "## Remove deck by index\n",
    "It will try to delete but it will not complain if you give an inexistent index, ok?"
   ]
  },
  {
   "cell_type": "code",
   "execution_count": 21,
   "metadata": {
    "tags": []
   },
   "outputs": [
    {
     "name": "stdout",
     "output_type": "stream",
     "text": [
      "Removed deck of index 100, if it existed\n",
      "{'global config for FSRS4Anki': {'w': [1.0,\n",
      "                                       1.0,\n",
      "                                       5.0,\n",
      "                                       -0.5,\n",
      "                                       -0.5,\n",
      "                                       0.2,\n",
      "                                       1.4,\n",
      "                                       -0.12,\n",
      "                                       0.8,\n",
      "                                       2.0,\n",
      "                                       -0.2,\n",
      "                                       0.2,\n",
      "                                       1.0],\n",
      "                                 'requestRetention': 0.9,\n",
      "                                 'maximumInterval': 36500,\n",
      "                                 'easyBonus': 1.3,\n",
      "                                 'hardInterval': 1.2},\n",
      " 'your deck name here': {'w': [1.0,\n",
      "                               1.0,\n",
      "                               5.0,\n",
      "                               -0.5,\n",
      "                               -0.5,\n",
      "                               0.2,\n",
      "                               1.4,\n",
      "                               -0.12,\n",
      "                               0.8,\n",
      "                               2.0,\n",
      "                               -0.2,\n",
      "                               0.2,\n",
      "                               1.0],\n",
      "                         'requestRetention': 0.9,\n",
      "                         'maximumInterval': 36500,\n",
      "                         'easyBonus': 1.3,\n",
      "                         'hardInterval': 1.2}}\n"
     ]
    }
   ],
   "source": [
    "remove_deck_by(idx=100, verbose=True)"
   ]
  },
  {
   "cell_type": "markdown",
   "metadata": {
    "tags": []
   },
   "source": [
    "---\n",
    "# Generate deck config\n",
    "grabs the deck_dict and generates the config to be pasted"
   ]
  },
  {
   "cell_type": "code",
   "execution_count": 36,
   "metadata": {
    "tags": []
   },
   "outputs": [
    {
     "name": "stdout",
     "output_type": "stream",
     "text": [
      "const deckParams = [\n",
      "  {\n",
      "    \"deckName\": \"global config for FSRS4Anki\",\n",
      "    \"w\": [1.0, 1.0, 5.0, -0.5, -0.5, 0.2, 1.4, -0.12, 0.8, 2.0, -0.2, 0.2, 1.0],\n",
      "    \"requestRetention\": 0.9,\n",
      "    \"maximumInterval\": 36500,\n",
      "    \"easyBonus\": 1.3,\n",
      "    \"hardInterval\": 1.2,\n",
      "  },\n",
      "  {\n",
      "    \"deckName\": \"your deck name here\",\n",
      "    \"w\": [1.0, 1.0, 5.0, -0.5, -0.5, 0.2, 1.4, -0.12, 0.8, 2.0, -0.2, 0.2, 1.0],\n",
      "    \"requestRetention\": 0.9,\n",
      "    \"maximumInterval\": 36500,\n",
      "    \"easyBonus\": 1.3,\n",
      "    \"hardInterval\": 1.2,\n",
      "  },\n",
      "];\n",
      "\n"
     ]
    }
   ],
   "source": [
    "print(generate_dec_config())"
   ]
  },
  {
   "cell_type": "markdown",
   "metadata": {
    "tags": []
   },
   "source": [
    "---\n",
    "# Using toml files to load/dump\n",
    "TODO"
   ]
  },
  {
   "cell_type": "code",
   "execution_count": 103,
   "metadata": {
    "id": "iqP70_-3EUhi"
   },
   "outputs": [
    {
     "name": "stdout",
     "output_type": "stream",
     "text": [
      "testing if I have tomllib <module 'tomllib' from 'C:\\\\Program Files\\\\Python311\\\\Lib\\\\tomllib\\\\__init__.py'>\n"
     ]
    }
   ],
   "source": [
    "import tomllib  # python 3.11 and forward\n",
    "print('testing if I have tomllib', tomllib)"
   ]
  }
 ],
 "metadata": {
  "colab": {
   "authorship_tag": "ABX9TyMnk8/Ih2JAJZJ1PBkXQUBC",
   "collapsed_sections": [],
   "provenance": [],
   "toc_visible": true
  },
  "kernelspec": {
   "display_name": "Python 3 (ipykernel)",
   "language": "python",
   "name": "python3"
  },
  "language_info": {
   "codemirror_mode": {
    "name": "ipython",
    "version": 3
   },
   "file_extension": ".py",
   "mimetype": "text/x-python",
   "name": "python",
   "nbconvert_exporter": "python",
   "pygments_lexer": "ipython3",
   "version": "3.11.1"
  },
  "vscode": {
   "interpreter": {
    "hash": "8dd9a290ffd10997e0b0d411ff1325a47862ea932e0fd309ade800e0e51d2b4b"
   }
  }
 },
 "nbformat": 4,
 "nbformat_minor": 4
}
